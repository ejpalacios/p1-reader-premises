{
 "cells": [
  {
   "cell_type": "markdown",
   "id": "d28b74d6-50e7-4d30-85ef-a0282858e77e",
   "metadata": {},
   "source": [
    "# Explore data in Database"
   ]
  },
  {
   "cell_type": "markdown",
   "id": "988b5831-68cd-45cb-84fd-0eeb2a0df301",
   "metadata": {},
   "source": [
    "This notebook describes how to connect to the database and query the stored measurments"
   ]
  },
  {
   "cell_type": "code",
   "execution_count": null,
   "id": "f45711d4-d681-450c-a913-3c75029f0e01",
   "metadata": {},
   "outputs": [],
   "source": [
    "from datetime import datetime"
   ]
  },
  {
   "cell_type": "code",
   "execution_count": null,
   "id": "93d193cd-d25e-4410-8885-9644b422e349",
   "metadata": {},
   "outputs": [],
   "source": [
    "import pandas as pd\n",
    "import matplotlib.pyplot as plt"
   ]
  },
  {
   "cell_type": "code",
   "execution_count": null,
   "id": "179f7ced-98da-4433-a50e-13f31816d044",
   "metadata": {},
   "outputs": [],
   "source": [
    "from p1reader.sinks import DBSink, DBSinkConfig\n",
    "import p1reader.sinks.db_operations as op"
   ]
  },
  {
   "cell_type": "markdown",
   "id": "13a4ef53-5611-413a-94af-8cc7b123e0ab",
   "metadata": {},
   "source": [
    "## Connect to database and init data source"
   ]
  },
  {
   "cell_type": "code",
   "execution_count": null,
   "id": "9d9607fc-cccb-4265-86fe-18f7ebe1c7bc",
   "metadata": {},
   "outputs": [],
   "source": [
    "config = DBSinkConfig(host=\"192.168.10.1\", port=5432, database=\"premises\", user=\"postgres\", password=\"password\")"
   ]
  },
  {
   "cell_type": "code",
   "execution_count": null,
   "id": "fdd48052-c23a-4971-bf57-108c622df93d",
   "metadata": {},
   "outputs": [],
   "source": [
    "sink = DBSink(config.output_stream)"
   ]
  },
  {
   "cell_type": "markdown",
   "id": "464671ce-db21-4a77-ac24-efb1338ff3e8",
   "metadata": {},
   "source": [
    "## Get meters in the DB"
   ]
  },
  {
   "cell_type": "code",
   "execution_count": null,
   "id": "55f3c81a-aacf-4e24-b601-44f9a8166c7f",
   "metadata": {},
   "outputs": [],
   "source": [
    "ids = sink.query_meter_ids()\n",
    "print(ids)"
   ]
  },
  {
   "cell_type": "markdown",
   "id": "7326a013-877e-4632-865d-06257c8ffe2e",
   "metadata": {},
   "source": [
    "## Get range of data for first meter"
   ]
  },
  {
   "cell_type": "code",
   "execution_count": null,
   "id": "54ec768b-86f2-4a0b-9d0c-52952ec67bc9",
   "metadata": {},
   "outputs": [],
   "source": [
    "start_date, end_date = sink.query_date_range(ids[0])\n",
    "print(start_date)\n",
    "print(end_date)"
   ]
  },
  {
   "cell_type": "markdown",
   "id": "7061dc9e-7b87-457f-90c3-077565675486",
   "metadata": {},
   "source": [
    "## Get number of phases"
   ]
  },
  {
   "cell_type": "code",
   "execution_count": null,
   "id": "6fb2e100-468c-43a0-96fb-3c99d65ded6e",
   "metadata": {},
   "outputs": [],
   "source": [
    "phases = sink.query_n_phases(ids[0])\n",
    "print(phases)"
   ]
  },
  {
   "cell_type": "markdown",
   "id": "600703bc-04f5-498d-8ffb-3a6decd29ad7",
   "metadata": {},
   "source": [
    "## Get Mbus devices for first meter"
   ]
  },
  {
   "cell_type": "code",
   "execution_count": null,
   "id": "23841daf-500f-452b-8954-1ff1ab455c20",
   "metadata": {},
   "outputs": [],
   "source": [
    "mbus = sink.query_mbus_ids(ids[0])\n",
    "print(mbus)"
   ]
  },
  {
   "cell_type": "markdown",
   "id": "610a1757-617c-4ffb-a96a-13761e1e05c9",
   "metadata": {},
   "source": [
    "## Query data Electrical data"
   ]
  },
  {
   "cell_type": "code",
   "execution_count": null,
   "id": "5dc19239-8e58-404f-ae6b-88da43dcc784",
   "metadata": {},
   "outputs": [],
   "source": [
    "measurements = [\"P+\", \"P-\", \"U(L1)\"]"
   ]
  },
  {
   "cell_type": "code",
   "execution_count": null,
   "id": "4499e93e-7fe2-45da-a113-ac620b8d2aeb",
   "metadata": {},
   "outputs": [],
   "source": [
    "results = sink.query_sql(device_id=ids[0], start_date=datetime(2023, 12, 22), end_date=datetime(2023,12,23), measurements=measurements, sql_collection=op.ELEC)"
   ]
  },
  {
   "cell_type": "markdown",
   "id": "aa171ee7-700b-4f58-8a37-77dced548ebe",
   "metadata": {},
   "source": [
    "## Convert raw results to pandas df"
   ]
  },
  {
   "cell_type": "code",
   "execution_count": null,
   "id": "17c167f6-7207-4d76-8650-6ee61806fe69",
   "metadata": {},
   "outputs": [],
   "source": [
    "df_elec = pd.DataFrame()\n",
    "for measure, values in results.items():\n",
    "    readings = [value[3] for value in values]\n",
    "    indexes = [value[0] for value in values]\n",
    "    df_temp = pd.DataFrame(index=indexes, data=readings, columns=[measure])\n",
    "    df_elec = pd.concat([df_elec, df_temp], axis=1)\n",
    "df_elec.head()"
   ]
  },
  {
   "cell_type": "markdown",
   "id": "9453a2a3-c8f3-433f-9a13-bc0cafa7bff5",
   "metadata": {},
   "source": [
    "## Query MBus data"
   ]
  },
  {
   "cell_type": "code",
   "execution_count": null,
   "id": "a4a843e0-e309-4878-96fa-8aab3d0eff24",
   "metadata": {},
   "outputs": [],
   "source": [
    "results = sink.query_sql(device_id=ids[0], start_date=datetime(2023, 12, 22), end_date=datetime(2023,12,23), measurements=mbus, sql_collection=op.MBUS)"
   ]
  },
  {
   "cell_type": "code",
   "execution_count": null,
   "id": "ae65a839-7f38-45e0-8c3a-4d3b3464ee49",
   "metadata": {},
   "outputs": [],
   "source": [
    "df_mbus = pd.DataFrame()\n",
    "for measure, values in results.items():\n",
    "    readings = [value[4] for value in values]\n",
    "    indexes = [value[0] for value in values]\n",
    "    df_temp = pd.DataFrame(index=indexes, data=readings, columns=[measure])\n",
    "    df_mbus = pd.concat([df_mbus, df_temp], axis=1)\n",
    "df_mbus.head()"
   ]
  },
  {
   "cell_type": "code",
   "execution_count": null,
   "id": "274f34bb-fa8c-4715-acbf-6a5512a215de",
   "metadata": {},
   "outputs": [],
   "source": [
    "results = sink.query_sql(device_id=ids[0], start_date=start_date, end_date=end_date, sql_collection=op.PEAK)"
   ]
  },
  {
   "cell_type": "code",
   "execution_count": null,
   "id": "46eb35ac-233e-41ee-9d9b-5ddad57081d4",
   "metadata": {},
   "outputs": [],
   "source": [
    "df_peak = pd.DataFrame()\n",
    "for measure, values in results.items():\n",
    "    readings = [value[2] for value in values]\n",
    "    indexes = [value[0] for value in values]\n",
    "    df_temp = pd.DataFrame(index=indexes, data=readings, columns=[measure])\n",
    "    df_peak = pd.concat([df_peak, df_temp], axis=1)\n",
    "df_peak.head()"
   ]
  },
  {
   "cell_type": "code",
   "execution_count": null,
   "id": "8968da0f-523e-4a96-9866-91af8336e80e",
   "metadata": {},
   "outputs": [],
   "source": [
    "results = sink.query_sql(device_id=ids[0], start_date=start_date, end_date=end_date, sql_collection=op.PEAK_HISTORY)"
   ]
  },
  {
   "cell_type": "code",
   "execution_count": null,
   "id": "be64b41e-cf10-485b-ba13-65af84538a19",
   "metadata": {},
   "outputs": [],
   "source": [
    "df_peak_history = pd.DataFrame()\n",
    "for measure, values in results.items():\n",
    "    readings = [value[3] for value in values]\n",
    "    indexes = [value[0] for value in values]\n",
    "    df_temp = pd.DataFrame(index=indexes, data=readings, columns=[measure])\n",
    "    df_peak_history = pd.concat([df_peak_history, df_temp], axis=1)\n",
    "df_peak_history.head()"
   ]
  },
  {
   "cell_type": "markdown",
   "id": "7780b5a1-d57c-4db3-a37e-99905a4037c1",
   "metadata": {},
   "source": [
    "## Plot results"
   ]
  },
  {
   "cell_type": "code",
   "execution_count": null,
   "id": "d75b3562-f01d-4b27-9a3e-838cac506cf3",
   "metadata": {},
   "outputs": [],
   "source": [
    "plt.figure(figsize=(10,6))\n",
    "plt.plot(df_elec[\"P+\"])\n",
    "plt.xlabel(\"Date\")\n",
    "plt.ylabel(\"Power [kW]\")\n",
    "plt.tight_layout()"
   ]
  },
  {
   "cell_type": "code",
   "execution_count": null,
   "id": "cf5353e3-dec4-4a10-9455-a8ba4129c4d5",
   "metadata": {},
   "outputs": [],
   "source": [
    "plt.figure(figsize=(10,6))\n",
    "plt.plot(df_elec[\"U(L1)\"])\n",
    "plt.xlabel(\"Date\")\n",
    "plt.ylabel(\"Voltage [V]\")\n",
    "plt.tight_layout()"
   ]
  },
  {
   "cell_type": "code",
   "execution_count": null,
   "id": "179d90ad-193a-486e-a43f-d13e457fb119",
   "metadata": {},
   "outputs": [],
   "source": [
    "plt.figure(figsize=(10,6))\n",
    "plt.plot(df_mbus)\n",
    "plt.xlabel(\"Date\")\n",
    "plt.ylabel(\"Measurement\")\n",
    "plt.tight_layout()"
   ]
  },
  {
   "cell_type": "code",
   "execution_count": null,
   "id": "ea7f1d3c-6a63-4d2d-bf89-41f8e0209a33",
   "metadata": {},
   "outputs": [],
   "source": [
    "plt.figure(figsize=(10,6))\n",
    "plt.bar(x=df_peak.index, height=df_peak[\"Default\"].values)\n",
    "plt.xlabel(\"Date\")\n",
    "plt.ylabel(\"Power [kW]\")\n",
    "plt.tight_layout()"
   ]
  },
  {
   "cell_type": "code",
   "execution_count": null,
   "id": "60e30e36-b5f5-4c21-bca9-2d61a696b77e",
   "metadata": {},
   "outputs": [],
   "source": [
    "plt.figure(figsize=(10,6))\n",
    "plt.bar(x=df_peak_history.index, height=df_peak_history[\"Default\"].values)\n",
    "plt.xlabel(\"Date\")\n",
    "plt.ylabel(\"Power [kW]\")\n",
    "plt.tight_layout()"
   ]
  },
  {
   "cell_type": "code",
   "execution_count": null,
   "id": "f51b57e9-51ad-423f-81fa-5a8a04075085",
   "metadata": {},
   "outputs": [],
   "source": []
  }
 ],
 "metadata": {
  "kernelspec": {
   "display_name": "Python 3 (ipykernel)",
   "language": "python",
   "name": "python3"
  },
  "language_info": {
   "codemirror_mode": {
    "name": "ipython",
    "version": 3
   },
   "file_extension": ".py",
   "mimetype": "text/x-python",
   "name": "python",
   "nbconvert_exporter": "python",
   "pygments_lexer": "ipython3",
   "version": "3.9.18"
  }
 },
 "nbformat": 4,
 "nbformat_minor": 5
}
